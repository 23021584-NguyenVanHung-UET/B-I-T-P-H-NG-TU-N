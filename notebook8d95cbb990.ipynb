{
 "cells": [
  {
   "cell_type": "code",
   "execution_count": null,
   "id": "5d182be6",
   "metadata": {
    "_cell_guid": "b1076dfc-b9ad-4769-8c92-a6c4dae69d19",
    "_uuid": "8f2839f25d086af736a60e9eeb907d3b93b6e0e5",
    "execution": {
     "iopub.execute_input": "2025-04-24T10:43:43.534624Z",
     "iopub.status.busy": "2025-04-24T10:43:43.534317Z",
     "iopub.status.idle": "2025-04-24T10:44:17.509770Z",
     "shell.execute_reply": "2025-04-24T10:44:17.508576Z",
     "shell.execute_reply.started": "2025-04-24T10:43:43.534568Z"
    },
    "papermill": {
     "duration": 0.002033,
     "end_time": "2025-04-24T10:45:28.685532",
     "exception": false,
     "start_time": "2025-04-24T10:45:28.683499",
     "status": "completed"
    },
    "tags": []
   },
   "outputs": [],
   "source": []
  },
  {
   "cell_type": "code",
   "execution_count": null,
   "id": "69a879cd",
   "metadata": {
    "papermill": {
     "duration": 0.0015,
     "end_time": "2025-04-24T10:45:28.688788",
     "exception": false,
     "start_time": "2025-04-24T10:45:28.687288",
     "status": "completed"
    },
    "tags": []
   },
   "outputs": [],
   "source": []
  }
 ],
 "metadata": {
  "kaggle": {
   "accelerator": "none",
   "dataSources": [
    {
     "databundleVersionId": 11361821,
     "sourceId": 91844,
     "sourceType": "competition"
    }
   ],
   "dockerImageVersionId": 31012,
   "isGpuEnabled": false,
   "isInternetEnabled": true,
   "language": "python",
   "sourceType": "notebook"
  },
  "kernelspec": {
   "display_name": "Python 3",
   "language": "python",
   "name": "python3"
  },
  "language_info": {
   "codemirror_mode": {
    "name": "ipython",
    "version": 3
   },
   "file_extension": ".py",
   "mimetype": "text/x-python",
   "name": "python",
   "nbconvert_exporter": "python",
   "pygments_lexer": "ipython3",
   "version": "3.11.11"
  },
  "papermill": {
   "default_parameters": {},
   "duration": 6.305067,
   "end_time": "2025-04-24T10:45:29.110489",
   "environment_variables": {},
   "exception": null,
   "input_path": "__notebook__.ipynb",
   "output_path": "__notebook__.ipynb",
   "parameters": {},
   "start_time": "2025-04-24T10:45:22.805422",
   "version": "2.6.0"
  }
 },
 "nbformat": 4,
 "nbformat_minor": 5
}
